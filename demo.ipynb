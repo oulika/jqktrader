{
 "cells": [
  {
   "cell_type": "code",
   "metadata": {
    "ExecuteTime": {
     "end_time": "2025-08-18T09:55:41.614545Z",
     "start_time": "2025-08-18T09:55:33.798896Z"
    }
   },
   "source": [
    "import jqktrader\n",
    "\n",
    "user = jqktrader.use()\n",
    "\n",
    "user.connect(\n",
    "  exe_path=r'C:\\同花顺软件\\同花顺\\xiadan.exe',\n",
    "  tesseract_cmd=r'C:\\Program Files\\Tesseract-OCR\\tesseract.exe'\n",
    ")\n",
    "\n",
    "user.position"
   ],
   "outputs": [
    {
     "ename": "ModuleNotFoundError",
     "evalue": "No module named 'easyutils'",
     "output_type": "error",
     "traceback": [
      "\u001B[31m---------------------------------------------------------------------------\u001B[39m",
      "\u001B[31mModuleNotFoundError\u001B[39m                       Traceback (most recent call last)",
      "\u001B[36mCell\u001B[39m\u001B[36m \u001B[39m\u001B[32mIn[1]\u001B[39m\u001B[32m, line 1\u001B[39m\n\u001B[32m----> \u001B[39m\u001B[32m1\u001B[39m \u001B[38;5;28;01mimport\u001B[39;00m\u001B[38;5;250m \u001B[39m\u001B[34;01mjqktrader\u001B[39;00m\n\u001B[32m      3\u001B[39m user = jqktrader.use()\n\u001B[32m      5\u001B[39m user.connect(\n\u001B[32m      6\u001B[39m   exe_path=\u001B[33mr\u001B[39m\u001B[33m'\u001B[39m\u001B[33mC:\u001B[39m\u001B[33m\\\u001B[39m\u001B[33m同花顺软件\u001B[39m\u001B[33m\\\u001B[39m\u001B[33m同花顺\u001B[39m\u001B[33m\\\u001B[39m\u001B[33mxiadan.exe\u001B[39m\u001B[33m'\u001B[39m,\n\u001B[32m      7\u001B[39m   tesseract_cmd=\u001B[33mr\u001B[39m\u001B[33m'\u001B[39m\u001B[33mC:\u001B[39m\u001B[33m\\\u001B[39m\u001B[33mProgram Files\u001B[39m\u001B[33m\\\u001B[39m\u001B[33mTesseract-OCR\u001B[39m\u001B[33m\\\u001B[39m\u001B[33mtesseract.exe\u001B[39m\u001B[33m'\u001B[39m\n\u001B[32m      8\u001B[39m )\n",
      "\u001B[36mFile \u001B[39m\u001B[32m~\\PycharmProjects\\jqktrader\\jqktrader\\__init__.py:5\u001B[39m\n\u001B[32m      2\u001B[39m \u001B[38;5;28;01mimport\u001B[39;00m\u001B[38;5;250m \u001B[39m\u001B[34;01murllib3\u001B[39;00m\n\u001B[32m      4\u001B[39m \u001B[38;5;28;01mfrom\u001B[39;00m\u001B[38;5;250m \u001B[39m\u001B[34;01mjqktrader\u001B[39;00m\u001B[38;5;250m \u001B[39m\u001B[38;5;28;01mimport\u001B[39;00m exceptions\n\u001B[32m----> \u001B[39m\u001B[32m5\u001B[39m \u001B[38;5;28;01mfrom\u001B[39;00m\u001B[38;5;250m \u001B[39m\u001B[34;01mjqktrader\u001B[39;00m\u001B[34;01m.\u001B[39;00m\u001B[34;01mapi\u001B[39;00m\u001B[38;5;250m \u001B[39m\u001B[38;5;28;01mimport\u001B[39;00m use\n\u001B[32m      6\u001B[39m \u001B[38;5;28;01mfrom\u001B[39;00m\u001B[38;5;250m \u001B[39m\u001B[34;01mjqktrader\u001B[39;00m\u001B[34;01m.\u001B[39;00m\u001B[34;01mlog\u001B[39;00m\u001B[38;5;250m \u001B[39m\u001B[38;5;28;01mimport\u001B[39;00m logger\n\u001B[32m      8\u001B[39m urllib3.disable_warnings(urllib3.exceptions.InsecureRequestWarning)\n",
      "\u001B[36mFile \u001B[39m\u001B[32m~\\PycharmProjects\\jqktrader\\jqktrader\\api.py:5\u001B[39m\n\u001B[32m      2\u001B[39m \u001B[38;5;28;01mimport\u001B[39;00m\u001B[38;5;250m \u001B[39m\u001B[34;01mlogging\u001B[39;00m\n\u001B[32m      3\u001B[39m \u001B[38;5;28;01mimport\u001B[39;00m\u001B[38;5;250m \u001B[39m\u001B[34;01msys\u001B[39;00m\n\u001B[32m----> \u001B[39m\u001B[32m5\u001B[39m \u001B[38;5;28;01mfrom\u001B[39;00m\u001B[38;5;250m \u001B[39m\u001B[34;01m.\u001B[39;00m\u001B[34;01mclienttrader\u001B[39;00m\u001B[38;5;250m \u001B[39m\u001B[38;5;28;01mimport\u001B[39;00m ClientTrader\n\u001B[32m      6\u001B[39m \u001B[38;5;28;01mfrom\u001B[39;00m\u001B[38;5;250m \u001B[39m\u001B[34;01mjqktrader\u001B[39;00m\u001B[34;01m.\u001B[39;00m\u001B[34;01mlog\u001B[39;00m\u001B[38;5;250m \u001B[39m\u001B[38;5;28;01mimport\u001B[39;00m logger\n\u001B[32m      9\u001B[39m \u001B[38;5;28;01mif\u001B[39;00m sys.version_info <= (\u001B[32m3\u001B[39m, \u001B[32m5\u001B[39m):\n",
      "\u001B[36mFile \u001B[39m\u001B[32m~\\PycharmProjects\\jqktrader\\jqktrader\\clienttrader.py:13\u001B[39m\n\u001B[32m      9\u001B[39m \u001B[38;5;28;01mfrom\u001B[39;00m\u001B[38;5;250m \u001B[39m\u001B[34;01mtyping\u001B[39;00m\u001B[38;5;250m \u001B[39m\u001B[38;5;28;01mimport\u001B[39;00m Type, Union\n\u001B[32m     11\u001B[39m \u001B[38;5;28;01mimport\u001B[39;00m\u001B[38;5;250m \u001B[39m\u001B[34;01mhashlib\u001B[39;00m,\u001B[38;5;250m \u001B[39m\u001B[34;01mbinascii\u001B[39;00m\n\u001B[32m---> \u001B[39m\u001B[32m13\u001B[39m \u001B[38;5;28;01mimport\u001B[39;00m\u001B[38;5;250m \u001B[39m\u001B[34;01measyutils\u001B[39;00m\n\u001B[32m     14\u001B[39m \u001B[38;5;28;01mfrom\u001B[39;00m\u001B[38;5;250m \u001B[39m\u001B[34;01mpywinauto\u001B[39;00m\u001B[38;5;250m \u001B[39m\u001B[38;5;28;01mimport\u001B[39;00m findwindows, timings\n\u001B[32m     15\u001B[39m \u001B[38;5;28;01mimport\u001B[39;00m\u001B[38;5;250m \u001B[39m\u001B[34;01mpytesseract\u001B[39;00m\n",
      "\u001B[31mModuleNotFoundError\u001B[39m: No module named 'easyutils'"
     ]
    }
   ],
   "execution_count": 1
  }
 ],
 "metadata": {
  "kernelspec": {
   "display_name": "Python 3.10.4 ('jqktrader-EOpNXzYo-py3.10')",
   "language": "python",
   "name": "python3"
  },
  "language_info": {
   "codemirror_mode": {
    "name": "ipython",
    "version": 3
   },
   "file_extension": ".py",
   "mimetype": "text/x-python",
   "name": "python",
   "nbconvert_exporter": "python",
   "pygments_lexer": "ipython3",
   "version": "3.10.4"
  },
  "orig_nbformat": 4,
  "vscode": {
   "interpreter": {
    "hash": "427174d10de08e7ba0b097af1f04ac0363ae87e81f723d609b62824178bcb47e"
   }
  }
 },
 "nbformat": 4,
 "nbformat_minor": 2
}
